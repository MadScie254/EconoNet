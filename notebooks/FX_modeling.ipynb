{
 "cells": [
  {
   "cell_type": "markdown",
   "id": "8cd3908c",
   "metadata": {},
   "source": [
    "# 💱 Real USD/KES Exchange Rate Modeling & Prediction\n",
    "\n",
    "**Central Bank of Kenya Foreign Exchange Analysis**  \n",
    "*Advanced FX Rate Forecasting using Real Market Data*\n",
    "\n",
    "---\n",
    "\n",
    "## Analysis Framework\n",
    "- **Real Data Integration**: Actual CBK exchange rate data and market indicators\n",
    "- **Advanced Modeling**: ARIMA, LSTM, and Ensemble forecasting methods\n",
    "- **Market Microstructure**: Bid-ask spreads, volatility clustering, and intervention detection\n",
    "- **Policy Impact**: Central bank intervention analysis and policy effects\n",
    "- **Risk Management**: VaR estimation and stress testing scenarios"
   ]
  },
  {
   "cell_type": "code",
   "execution_count": 1,
   "id": "5d7828aa",
   "metadata": {},
   "outputs": [
    {
     "name": "stdout",
     "output_type": "stream",
     "text": [
      "🚀 Real FX Modeling Engine Initialized\n",
      "💱 Loading actual CBK exchange rate data...\n",
      "\\n============================================================\n",
      "💱 REAL FX MODELING ENGINE READY\n",
      "🚀 Loading actual CBK exchange rate data...\n",
      "============================================================\n"
     ]
    }
   ],
   "source": [
    "# Real FX Rate Modeling with Actual CBK Data\n",
    "import pandas as pd\n",
    "import numpy as np\n",
    "import matplotlib.pyplot as plt\n",
    "import seaborn as sns\n",
    "import plotly.graph_objects as go\n",
    "import plotly.express as px\n",
    "from plotly.subplots import make_subplots\n",
    "import warnings\n",
    "warnings.filterwarnings('ignore')\n",
    "\n",
    "# Advanced Analytics\n",
    "from sklearn.preprocessing import StandardScaler, MinMaxScaler\n",
    "from sklearn.model_selection import train_test_split, TimeSeriesSplit\n",
    "from sklearn.ensemble import RandomForestRegressor, GradientBoostingRegressor\n",
    "from sklearn.metrics import mean_squared_error, mean_absolute_error, r2_score, mean_absolute_percentage_error\n",
    "from sklearn.linear_model import LinearRegression, Ridge, Lasso\n",
    "\n",
    "# Time Series Analysis\n",
    "from statsmodels.tsa.arima.model import ARIMA\n",
    "from statsmodels.tsa.seasonal import seasonal_decompose\n",
    "from statsmodels.tsa.stattools import adfuller, kpss, grangercausalitytests\n",
    "from statsmodels.graphics.tsaplots import plot_acf, plot_pacf\n",
    "\n",
    "# Neural Networks\n",
    "import tensorflow as tf\n",
    "from tensorflow import keras\n",
    "from tensorflow.keras import layers\n",
    "\n",
    "# Financial Analysis\n",
    "from arch import arch_model\n",
    "import scipy.stats as stats\n",
    "\n",
    "print(\"🚀 Real FX Modeling Engine Initialized\")\n",
    "print(\"💱 Loading actual CBK exchange rate data...\")\n",
    "\n",
    "class RealFXModeler:\n",
    "    \"\"\"Advanced FX rate modeling using actual CBK market data\"\"\"\n",
    "    \n",
    "    def __init__(self):\n",
    "        self.data = {}\n",
    "        self.models = {}\n",
    "        self.forecasts = {}\n",
    "        self.accuracy_scores = {}\n",
    "        \n",
    "        # FX market colors\n",
    "        self.colors = {\n",
    "            'usd_kes': '#1f77b4',\n",
    "            'volatility': '#ff7f0e', \n",
    "            'volume': '#2ca02c',\n",
    "            'spread': '#d62728',\n",
    "            'trend': '#9467bd'\n",
    "        }\n",
    "        \n",
    "    def load_real_fx_data(self):\n",
    "        \"\"\"Load actual CBK exchange rate datasets\"\"\"\n",
    "        try:\n",
    "            # Load exchange rate data\n",
    "            fx_monthly_end = pd.read_csv('../data/raw/Monthly exchange rate (end period).csv')\n",
    "            fx_monthly_avg = pd.read_csv('../data/raw/Monthly Exchange rate (period average).csv')\n",
    "            trade_weighted = pd.read_csv('../data/raw/TRADE WEIGHTED AVERAGE INDICATIVE RATES.csv')\n",
    "            \n",
    "            print(f\"✅ Loaded FX datasets:\")\n",
    "            print(f\"   📊 Monthly End Period: {len(fx_monthly_end)} records\")\n",
    "            print(f\"   📊 Monthly Average: {len(fx_monthly_avg)} records\") \n",
    "            print(f\"   📊 Trade Weighted Rates: {len(trade_weighted)} records\")\n",
    "            \n",
    "            # Store raw data\n",
    "            self.data['fx_end'] = fx_monthly_end\n",
    "            self.data['fx_avg'] = fx_monthly_avg\n",
    "            self.data['trade_weighted'] = trade_weighted\n",
    "            \n",
    "            # Display data structure\n",
    "            print(\"\\\\n📋 FX End Period Data Structure:\")\n",
    "            print(fx_monthly_end.head())\n",
    "            print(\"\\\\nColumns:\", fx_monthly_end.columns.tolist())\n",
    "            \n",
    "            return fx_monthly_end, fx_monthly_avg, trade_weighted\n",
    "            \n",
    "        except Exception as e:\n",
    "            print(f\"❌ Error loading FX data: {e}\")\n",
    "            return None, None, None\n",
    "    \n",
    "    def preprocess_fx_data(self, fx_df):\n",
    "        \"\"\"Process FX data for analysis\"\"\"\n",
    "        if fx_df is None:\n",
    "            return None\n",
    "            \n",
    "        try:\n",
    "            # Clean the data - the real structure has Year, Month, USD rate in specific columns\n",
    "            df = fx_df.copy()\n",
    "            \n",
    "            # Skip the header row and use proper columns\n",
    "            if len(df) > 1:\n",
    "                # Use the second row onwards (first row is header info)\n",
    "                df = df.iloc[1:].copy()\n",
    "                \n",
    "                # Check if we have Year, Month, and USD columns\n",
    "                if len(df.columns) >= 3:\n",
    "                    # Create proper column mapping\n",
    "                    df.columns = ['Year', 'Month', 'USD_Rate'] + list(df.columns[3:])\n",
    "                    \n",
    "                    # Convert Year and Month to datetime\n",
    "                    df['Year'] = pd.to_numeric(df['Year'], errors='coerce')\n",
    "                    df['Month'] = pd.to_numeric(df['Month'], errors='coerce')\n",
    "                    \n",
    "                    # Create date column\n",
    "                    df['date'] = pd.to_datetime(df[['Year', 'Month']].assign(day=1), errors='coerce')\n",
    "                    \n",
    "                    # Convert USD rate to numeric\n",
    "                    df['usd_kes_rate'] = pd.to_numeric(df['USD_Rate'], errors='coerce')\n",
    "                    \n",
    "                    # Remove rows with missing critical data\n",
    "                    df = df.dropna(subset=['date', 'usd_kes_rate'])\n",
    "                    \n",
    "                    if len(df) > 0:\n",
    "                        # Sort by date\n",
    "                        df = df.sort_values('date').reset_index(drop=True)\n",
    "                        \n",
    "                        # Calculate additional metrics\n",
    "                        df['rate_change'] = df['usd_kes_rate'].diff()\n",
    "                        df['rate_pct_change'] = df['usd_kes_rate'].pct_change()\n",
    "                        df['volatility'] = df['rate_pct_change'].rolling(window=6).std()\n",
    "                        \n",
    "                        print(f\"✅ Processed FX data: {len(df)} valid records\")\n",
    "                        print(f\"📅 Date range: {df['date'].min()} to {df['date'].max()}\")\n",
    "                        print(f\"💱 Rate range: {df['usd_kes_rate'].min():.2f} - {df['usd_kes_rate'].max():.2f}\")\n",
    "                        \n",
    "                        return df\n",
    "                    else:\n",
    "                        print(\"❌ No valid data after processing\")\n",
    "                        return None\n",
    "                else:\n",
    "                    print(\"❌ Insufficient columns in FX data\")\n",
    "                    return None\n",
    "            else:\n",
    "                print(\"❌ Insufficient rows in FX data\")\n",
    "                return None\n",
    "                \n",
    "        except Exception as e:\n",
    "            print(f\"❌ Error processing FX data: {str(e)}\")\n",
    "            return None\n",
    "    \n",
    "    def analyze_fx_patterns(self, fx_df):\n",
    "        \"\"\"Comprehensive FX pattern analysis\"\"\"\n",
    "        \n",
    "        print(\"🔍 Conducting comprehensive FX analysis...\")\n",
    "        \n",
    "        # Basic statistics\n",
    "        print(\"\\\\n📊 FX Rate Statistics:\")\n",
    "        print(fx_df['usd_kes_rate'].describe())\n",
    "        \n",
    "        # Stationarity tests\n",
    "        print(\"\\\\n🧪 Stationarity Tests:\")\n",
    "        \n",
    "        # ADF test\n",
    "        adf_result = adfuller(fx_df['usd_kes_rate'].dropna())\n",
    "        print(f\"ADF Test - p-value: {adf_result[1]:.4f}\")\n",
    "        print(f\"ADF Test - Stationary: {'Yes' if adf_result[1] < 0.05 else 'No'}\")\n",
    "        \n",
    "        # KPSS test\n",
    "        kpss_result = kpss(fx_df['usd_kes_rate'].dropna())\n",
    "        print(f\"KPSS Test - p-value: {kpss_result[1]:.4f}\")\n",
    "        print(f\"KPSS Test - Stationary: {'Yes' if kpss_result[1] > 0.05 else 'No'}\")\n",
    "        \n",
    "        # Volatility analysis\n",
    "        print(\"\\\\n📈 Volatility Analysis:\")\n",
    "        avg_volatility = fx_df['volatility'].mean()\n",
    "        max_volatility = fx_df['volatility'].max()\n",
    "        print(f\"Average Volatility: {avg_volatility:.4f}\")\n",
    "        print(f\"Maximum Volatility: {max_volatility:.4f}\")\n",
    "        \n",
    "        # Trend analysis\n",
    "        recent_trend = fx_df['trend'].tail(6).mean()\n",
    "        print(f\"Recent Trend (6M): {recent_trend:.4f}\")\n",
    "        print(f\"Trend Direction: {'Appreciation' if recent_trend < 0 else 'Depreciation'}\")\n",
    "        \n",
    "        return {\n",
    "            'adf_pvalue': adf_result[1],\n",
    "            'kpss_pvalue': kpss_result[1],\n",
    "            'avg_volatility': avg_volatility,\n",
    "            'recent_trend': recent_trend\n",
    "        }\n",
    "    \n",
    "    def create_fx_visualization(self, fx_df):\n",
    "        \"\"\"Create comprehensive FX visualization dashboard\"\"\"\n",
    "        \n",
    "        fig = make_subplots(\n",
    "            rows=2, cols=2,\n",
    "            subplot_titles=('💱 USD/KES Exchange Rate', '📊 Rate Returns & Volatility',\n",
    "                          '📈 Moving Averages', '🎯 Momentum Indicators'),\n",
    "            specs=[[{\"secondary_y\": False}, {\"secondary_y\": True}],\n",
    "                   [{\"secondary_y\": False}, {\"secondary_y\": False}]]\n",
    "        )\n",
    "        \n",
    "        # Main FX rate\n",
    "        fig.add_trace(\n",
    "            go.Scatter(\n",
    "                x=fx_df['date'],\n",
    "                y=fx_df['usd_kes_rate'],\n",
    "                mode='lines',\n",
    "                name='USD/KES Rate',\n",
    "                line=dict(color=self.colors['usd_kes'], width=2)\n",
    "            ),\n",
    "            row=1, col=1\n",
    "        )\n",
    "        \n",
    "        # Returns and volatility\n",
    "        fig.add_trace(\n",
    "            go.Scatter(\n",
    "                x=fx_df['date'],\n",
    "                y=fx_df['rate_return'] * 100,\n",
    "                mode='lines',\n",
    "                name='Monthly Returns (%)',\n",
    "                line=dict(color=self.colors['trend'], width=1)\n",
    "            ),\n",
    "            row=1, col=2\n",
    "        )\n",
    "        \n",
    "        # Add volatility on secondary y-axis\n",
    "        fig.add_trace(\n",
    "            go.Scatter(\n",
    "                x=fx_df['date'],\n",
    "                y=fx_df['volatility'],\n",
    "                mode='lines',\n",
    "                name='Volatility',\n",
    "                line=dict(color=self.colors['volatility'], width=2, dash='dash'),\n",
    "                yaxis='y2'\n",
    "            ),\n",
    "            row=1, col=2\n",
    "        )\n",
    "        \n",
    "        # Moving averages\n",
    "        for window, color in zip([3, 6, 12], ['#1f77b4', '#ff7f0e', '#2ca02c']):\n",
    "            fig.add_trace(\n",
    "                go.Scatter(\n",
    "                    x=fx_df['date'],\n",
    "                    y=fx_df[f'ma_{window}'],\n",
    "                    mode='lines',\n",
    "                    name=f'{window}M MA',\n",
    "                    line=dict(color=color, width=1.5)\n",
    "                ),\n",
    "                row=2, col=1\n",
    "            )\n",
    "        \n",
    "        # Momentum indicators\n",
    "        fig.add_trace(\n",
    "            go.Scatter(\n",
    "                x=fx_df['date'],\n",
    "                y=fx_df['momentum_3m'] * 100,\n",
    "                mode='lines',\n",
    "                name='3M Momentum (%)',\n",
    "                line=dict(color=self.colors['trend'], width=2)\n",
    "            ),\n",
    "            row=2, col=2\n",
    "        )\n",
    "        \n",
    "        fig.add_trace(\n",
    "            go.Scatter(\n",
    "                x=fx_df['date'],\n",
    "                y=fx_df['momentum_12m'] * 100,\n",
    "                mode='lines',\n",
    "                name='12M Momentum (%)',\n",
    "                line=dict(color=self.colors['spread'], width=2)\n",
    "            ),\n",
    "            row=2, col=2\n",
    "        )\n",
    "        \n",
    "        # Add zero line for momentum\n",
    "        fig.add_hline(y=0, line_dash=\"dash\", line_color=\"gray\", row=2, col=2)\n",
    "        \n",
    "        fig.update_layout(\n",
    "            title=\"💱 USD/KES Exchange Rate - Comprehensive Analysis\",\n",
    "            template='plotly_dark',\n",
    "            height=800,\n",
    "            font=dict(color='white', size=11),\n",
    "            legend=dict(\n",
    "                orientation=\"h\",\n",
    "                yanchor=\"bottom\",\n",
    "                y=1.02,\n",
    "                xanchor=\"right\",\n",
    "                x=1\n",
    "            )\n",
    "        )\n",
    "        \n",
    "        # Update y-axes labels\n",
    "        fig.update_yaxes(title_text=\"Exchange Rate\", row=1, col=1)\n",
    "        fig.update_yaxes(title_text=\"Returns (%)\", row=1, col=2)\n",
    "        fig.update_yaxes(title_text=\"Volatility\", secondary_y=True, row=1, col=2)\n",
    "        fig.update_yaxes(title_text=\"Exchange Rate\", row=2, col=1)\n",
    "        fig.update_yaxes(title_text=\"Momentum (%)\", row=2, col=2)\n",
    "        \n",
    "        return fig\n",
    "\n",
    "# Initialize the Real FX Modeler\n",
    "fx_modeler = RealFXModeler()\n",
    "\n",
    "print(\"\\\\n\" + \"=\"*60)\n",
    "print(\"💱 REAL FX MODELING ENGINE READY\")\n",
    "print(\"🚀 Loading actual CBK exchange rate data...\")\n",
    "print(\"=\"*60)"
   ]
  },
  {
   "cell_type": "code",
   "execution_count": 6,
   "id": "00e032e9",
   "metadata": {},
   "outputs": [
    {
     "name": "stdout",
     "output_type": "stream",
     "text": [
      "LOADING REAL CBK EXCHANGE RATE DATA\n",
      "==================================================\n",
      "Raw FX data loaded: 391 rows\n",
      "Processed FX data: 390 valid records\n",
      "Date range: 1993-01-01 00:00:00 to 2025-06-01 00:00:00\n",
      "USD/KES range: 35.92 - 160.75\n"
     ]
    },
    {
     "data": {
      "application/vnd.plotly.v1+json": {
       "config": {
        "plotlyServerURL": "https://plot.ly"
       },
       "data": [
        {
         "line": {
          "color": "blue",
          "width": 2
         },
         "marker": {
          "size": 3
         },
         "mode": "lines+markers",
         "name": "USD/KES Exchange Rate",
         "type": "scatter",
         "x": [
          "1993-01-01T00:00:00",
          "1993-02-01T00:00:00",
          "1993-03-01T00:00:00",
          "1993-04-01T00:00:00",
          "1993-05-01T00:00:00",
          "1993-06-01T00:00:00",
          "1993-07-01T00:00:00",
          "1993-08-01T00:00:00",
          "1993-09-01T00:00:00",
          "1993-10-01T00:00:00",
          "1993-11-01T00:00:00",
          "1993-12-01T00:00:00",
          "1994-01-01T00:00:00",
          "1994-02-01T00:00:00",
          "1994-03-01T00:00:00",
          "1994-04-01T00:00:00",
          "1994-05-01T00:00:00",
          "1994-06-01T00:00:00",
          "1994-07-01T00:00:00",
          "1994-08-01T00:00:00",
          "1994-09-01T00:00:00",
          "1994-10-01T00:00:00",
          "1994-11-01T00:00:00",
          "1994-12-01T00:00:00",
          "1995-01-01T00:00:00",
          "1995-02-01T00:00:00",
          "1995-03-01T00:00:00",
          "1995-04-01T00:00:00",
          "1995-05-01T00:00:00",
          "1995-06-01T00:00:00",
          "1995-07-01T00:00:00",
          "1995-08-01T00:00:00",
          "1995-09-01T00:00:00",
          "1995-10-01T00:00:00",
          "1995-11-01T00:00:00",
          "1995-12-01T00:00:00",
          "1996-01-01T00:00:00",
          "1996-02-01T00:00:00",
          "1996-03-01T00:00:00",
          "1996-04-01T00:00:00",
          "1996-05-01T00:00:00",
          "1996-06-01T00:00:00",
          "1996-07-01T00:00:00",
          "1996-08-01T00:00:00",
          "1996-09-01T00:00:00",
          "1996-10-01T00:00:00",
          "1996-11-01T00:00:00",
          "1996-12-01T00:00:00",
          "1997-01-01T00:00:00",
          "1997-02-01T00:00:00",
          "1997-03-01T00:00:00",
          "1997-04-01T00:00:00",
          "1997-05-01T00:00:00",
          "1997-06-01T00:00:00",
          "1997-07-01T00:00:00",
          "1997-08-01T00:00:00",
          "1997-09-01T00:00:00",
          "1997-10-01T00:00:00",
          "1997-11-01T00:00:00",
          "1997-12-01T00:00:00",
          "1998-01-01T00:00:00",
          "1998-02-01T00:00:00",
          "1998-03-01T00:00:00",
          "1998-04-01T00:00:00",
          "1998-05-01T00:00:00",
          "1998-06-01T00:00:00",
          "1998-07-01T00:00:00",
          "1998-08-01T00:00:00",
          "1998-09-01T00:00:00",
          "1998-10-01T00:00:00",
          "1998-11-01T00:00:00",
          "1998-12-01T00:00:00",
          "1999-01-01T00:00:00",
          "1999-02-01T00:00:00",
          "1999-03-01T00:00:00",
          "1999-04-01T00:00:00",
          "1999-05-01T00:00:00",
          "1999-06-01T00:00:00",
          "1999-07-01T00:00:00",
          "1999-08-01T00:00:00",
          "1999-09-01T00:00:00",
          "1999-10-01T00:00:00",
          "1999-11-01T00:00:00",
          "1999-12-01T00:00:00",
          "2000-01-01T00:00:00",
          "2000-02-01T00:00:00",
          "2000-03-01T00:00:00",
          "2000-04-01T00:00:00",
          "2000-05-01T00:00:00",
          "2000-06-01T00:00:00",
          "2000-07-01T00:00:00",
          "2000-08-01T00:00:00",
          "2000-09-01T00:00:00",
          "2000-10-01T00:00:00",
          "2000-11-01T00:00:00",
          "2000-12-01T00:00:00",
          "2001-01-01T00:00:00",
          "2001-02-01T00:00:00",
          "2001-03-01T00:00:00",
          "2001-04-01T00:00:00",
          "2001-05-01T00:00:00",
          "2001-06-01T00:00:00",
          "2001-07-01T00:00:00",
          "2001-08-01T00:00:00",
          "2001-09-01T00:00:00",
          "2001-10-01T00:00:00",
          "2001-11-01T00:00:00",
          "2001-12-01T00:00:00",
          "2002-01-01T00:00:00",
          "2002-02-01T00:00:00",
          "2002-03-01T00:00:00",
          "2002-04-01T00:00:00",
          "2002-05-01T00:00:00",
          "2002-06-01T00:00:00",
          "2002-07-01T00:00:00",
          "2002-08-01T00:00:00",
          "2002-09-01T00:00:00",
          "2002-10-01T00:00:00",
          "2002-11-01T00:00:00",
          "2002-12-01T00:00:00",
          "2003-01-01T00:00:00",
          "2003-02-01T00:00:00",
          "2003-03-01T00:00:00",
          "2003-04-01T00:00:00",
          "2003-05-01T00:00:00",
          "2003-06-01T00:00:00",
          "2003-07-01T00:00:00",
          "2003-08-01T00:00:00",
          "2003-09-01T00:00:00",
          "2003-10-01T00:00:00",
          "2003-11-01T00:00:00",
          "2003-12-01T00:00:00",
          "2004-01-01T00:00:00",
          "2004-02-01T00:00:00",
          "2004-03-01T00:00:00",
          "2004-04-01T00:00:00",
          "2004-05-01T00:00:00",
          "2004-06-01T00:00:00",
          "2004-07-01T00:00:00",
          "2004-08-01T00:00:00",
          "2004-09-01T00:00:00",
          "2004-10-01T00:00:00",
          "2004-11-01T00:00:00",
          "2004-12-01T00:00:00",
          "2005-01-01T00:00:00",
          "2005-02-01T00:00:00",
          "2005-03-01T00:00:00",
          "2005-04-01T00:00:00",
          "2005-05-01T00:00:00",
          "2005-06-01T00:00:00",
          "2005-07-01T00:00:00",
          "2005-08-01T00:00:00",
          "2005-09-01T00:00:00",
          "2005-10-01T00:00:00",
          "2005-11-01T00:00:00",
          "2005-12-01T00:00:00",
          "2006-01-01T00:00:00",
          "2006-02-01T00:00:00",
          "2006-03-01T00:00:00",
          "2006-04-01T00:00:00",
          "2006-05-01T00:00:00",
          "2006-06-01T00:00:00",
          "2006-07-01T00:00:00",
          "2006-08-01T00:00:00",
          "2006-09-01T00:00:00",
          "2006-10-01T00:00:00",
          "2006-11-01T00:00:00",
          "2006-12-01T00:00:00",
          "2007-01-01T00:00:00",
          "2007-02-01T00:00:00",
          "2007-03-01T00:00:00",
          "2007-04-01T00:00:00",
          "2007-05-01T00:00:00",
          "2007-06-01T00:00:00",
          "2007-07-01T00:00:00",
          "2007-08-01T00:00:00",
          "2007-09-01T00:00:00",
          "2007-10-01T00:00:00",
          "2007-11-01T00:00:00",
          "2007-12-01T00:00:00",
          "2008-01-01T00:00:00",
          "2008-02-01T00:00:00",
          "2008-03-01T00:00:00",
          "2008-04-01T00:00:00",
          "2008-05-01T00:00:00",
          "2008-06-01T00:00:00",
          "2008-07-01T00:00:00",
          "2008-08-01T00:00:00",
          "2008-09-01T00:00:00",
          "2008-10-01T00:00:00",
          "2008-11-01T00:00:00",
          "2008-12-01T00:00:00",
          "2009-01-01T00:00:00",
          "2009-02-01T00:00:00",
          "2009-03-01T00:00:00",
          "2009-04-01T00:00:00",
          "2009-05-01T00:00:00",
          "2009-06-01T00:00:00",
          "2009-07-01T00:00:00",
          "2009-08-01T00:00:00",
          "2009-09-01T00:00:00",
          "2009-10-01T00:00:00",
          "2009-11-01T00:00:00",
          "2009-12-01T00:00:00",
          "2010-01-01T00:00:00",
          "2010-02-01T00:00:00",
          "2010-03-01T00:00:00",
          "2010-04-01T00:00:00",
          "2010-05-01T00:00:00",
          "2010-06-01T00:00:00",
          "2010-07-01T00:00:00",
          "2010-08-01T00:00:00",
          "2010-09-01T00:00:00",
          "2010-10-01T00:00:00",
          "2010-11-01T00:00:00",
          "2010-12-01T00:00:00",
          "2011-01-01T00:00:00",
          "2011-02-01T00:00:00",
          "2011-03-01T00:00:00",
          "2011-04-01T00:00:00",
          "2011-05-01T00:00:00",
          "2011-06-01T00:00:00",
          "2011-07-01T00:00:00",
          "2011-08-01T00:00:00",
          "2011-09-01T00:00:00",
          "2011-10-01T00:00:00",
          "2011-11-01T00:00:00",
          "2011-12-01T00:00:00",
          "2012-01-01T00:00:00",
          "2012-02-01T00:00:00",
          "2012-03-01T00:00:00",
          "2012-04-01T00:00:00",
          "2012-05-01T00:00:00",
          "2012-06-01T00:00:00",
          "2012-07-01T00:00:00",
          "2012-08-01T00:00:00",
          "2012-09-01T00:00:00",
          "2012-10-01T00:00:00",
          "2012-11-01T00:00:00",
          "2012-12-01T00:00:00",
          "2013-01-01T00:00:00",
          "2013-02-01T00:00:00",
          "2013-03-01T00:00:00",
          "2013-04-01T00:00:00",
          "2013-05-01T00:00:00",
          "2013-06-01T00:00:00",
          "2013-07-01T00:00:00",
          "2013-08-01T00:00:00",
          "2013-09-01T00:00:00",
          "2013-10-01T00:00:00",
          "2013-11-01T00:00:00",
          "2013-12-01T00:00:00",
          "2014-01-01T00:00:00",
          "2014-02-01T00:00:00",
          "2014-03-01T00:00:00",
          "2014-04-01T00:00:00",
          "2014-05-01T00:00:00",
          "2014-06-01T00:00:00",
          "2014-07-01T00:00:00",
          "2014-08-01T00:00:00",
          "2014-09-01T00:00:00",
          "2014-10-01T00:00:00",
          "2014-11-01T00:00:00",
          "2014-12-01T00:00:00",
          "2015-01-01T00:00:00",
          "2015-02-01T00:00:00",
          "2015-03-01T00:00:00",
          "2015-04-01T00:00:00",
          "2015-05-01T00:00:00",
          "2015-06-01T00:00:00",
          "2015-07-01T00:00:00",
          "2015-08-01T00:00:00",
          "2015-09-01T00:00:00",
          "2015-10-01T00:00:00",
          "2015-11-01T00:00:00",
          "2015-12-01T00:00:00",
          "2016-01-01T00:00:00",
          "2016-02-01T00:00:00",
          "2016-03-01T00:00:00",
          "2016-04-01T00:00:00",
          "2016-05-01T00:00:00",
          "2016-06-01T00:00:00",
          "2016-07-01T00:00:00",
          "2016-08-01T00:00:00",
          "2016-09-01T00:00:00",
          "2016-10-01T00:00:00",
          "2016-11-01T00:00:00",
          "2016-12-01T00:00:00",
          "2017-01-01T00:00:00",
          "2017-02-01T00:00:00",
          "2017-03-01T00:00:00",
          "2017-04-01T00:00:00",
          "2017-05-01T00:00:00",
          "2017-06-01T00:00:00",
          "2017-07-01T00:00:00",
          "2017-08-01T00:00:00",
          "2017-09-01T00:00:00",
          "2017-10-01T00:00:00",
          "2017-11-01T00:00:00",
          "2017-12-01T00:00:00",
          "2018-01-01T00:00:00",
          "2018-02-01T00:00:00",
          "2018-03-01T00:00:00",
          "2018-04-01T00:00:00",
          "2018-05-01T00:00:00",
          "2018-06-01T00:00:00",
          "2018-07-01T00:00:00",
          "2018-08-01T00:00:00",
          "2018-09-01T00:00:00",
          "2018-10-01T00:00:00",
          "2018-11-01T00:00:00",
          "2018-12-01T00:00:00",
          "2019-01-01T00:00:00",
          "2019-02-01T00:00:00",
          "2019-03-01T00:00:00",
          "2019-04-01T00:00:00",
          "2019-05-01T00:00:00",
          "2019-06-01T00:00:00",
          "2019-07-01T00:00:00",
          "2019-08-01T00:00:00",
          "2019-09-01T00:00:00",
          "2019-10-01T00:00:00",
          "2019-11-01T00:00:00",
          "2019-12-01T00:00:00",
          "2020-01-01T00:00:00",
          "2020-02-01T00:00:00",
          "2020-03-01T00:00:00",
          "2020-04-01T00:00:00",
          "2020-05-01T00:00:00",
          "2020-06-01T00:00:00",
          "2020-07-01T00:00:00",
          "2020-08-01T00:00:00",
          "2020-09-01T00:00:00",
          "2020-10-01T00:00:00",
          "2020-11-01T00:00:00",
          "2020-12-01T00:00:00",
          "2021-01-01T00:00:00",
          "2021-02-01T00:00:00",
          "2021-03-01T00:00:00",
          "2021-04-01T00:00:00",
          "2021-05-01T00:00:00",
          "2021-06-01T00:00:00",
          "2021-07-01T00:00:00",
          "2021-08-01T00:00:00",
          "2021-09-01T00:00:00",
          "2021-10-01T00:00:00",
          "2021-11-01T00:00:00",
          "2021-12-01T00:00:00",
          "2022-01-01T00:00:00",
          "2022-02-01T00:00:00",
          "2022-03-01T00:00:00",
          "2022-04-01T00:00:00",
          "2022-05-01T00:00:00",
          "2022-06-01T00:00:00",
          "2022-07-01T00:00:00",
          "2022-08-01T00:00:00",
          "2022-09-01T00:00:00",
          "2022-10-01T00:00:00",
          "2022-11-01T00:00:00",
          "2022-12-01T00:00:00",
          "2023-01-01T00:00:00",
          "2023-02-01T00:00:00",
          "2023-03-01T00:00:00",
          "2023-04-01T00:00:00",
          "2023-05-01T00:00:00",
          "2023-06-01T00:00:00",
          "2023-07-01T00:00:00",
          "2023-08-01T00:00:00",
          "2023-09-01T00:00:00",
          "2023-10-01T00:00:00",
          "2023-11-01T00:00:00",
          "2023-12-01T00:00:00",
          "2024-01-01T00:00:00",
          "2024-02-01T00:00:00",
          "2024-03-01T00:00:00",
          "2024-04-01T00:00:00",
          "2024-05-01T00:00:00",
          "2024-06-01T00:00:00",
          "2024-07-01T00:00:00",
          "2024-08-01T00:00:00",
          "2024-09-01T00:00:00",
          "2024-10-01T00:00:00",
          "2024-11-01T00:00:00",
          "2024-12-01T00:00:00",
          "2025-01-01T00:00:00",
          "2025-02-01T00:00:00",
          "2025-03-01T00:00:00",
          "2025-04-01T00:00:00",
          "2025-05-01T00:00:00",
          "2025-06-01T00:00:00"
         ],
         "y": [
          35.92,
          36.46,
          45.53,
          59.87,
          63.18,
          65.14,
          65.25,
          65.56,
          66.96,
          69.06,
          68.75,
          68.16,
          67.67,
          67.13,
          64.86,
          60.77,
          56.46,
          55.96,
          55.91,
          54.81,
          48.01,
          41.27,
          45.95,
          44.84,
          44.47,
          44.44,
          43.55,
          45.89,
          54.04,
          54.63,
          55.83,
          55.32,
          55.47,
          55.5,
          55.58,
          55.94,
          59.53,
          58.39,
          58.39,
          58.33,
          58.2,
          57.42,
          57.24,
          56.92,
          56.11,
          55.69,
          55.4,
          55.02,
          54.71,
          54.94,
          54.7,
          55.49,
          53.45,
          54.46,
          58.91,
          65.92,
          62.03,
          63.99,
          63.54,
          62.68,
          60.04,
          59.99,
          59.89,
          59.71,
          63.06,
          59.48,
          59.05,
          59.54,
          60.04,
          59.73,
          60.05,
          61.91,
          61.75,
          63.92,
          64.91,
          67.72,
          70.5,
          72.91,
          74.23,
          75.17,
          77.07,
          75.19,
          74.66,
          72.93,
          72.81,
          73.4,
          74.87,
          74.86,
          76.7,
          77.95,
          74.56,
          77.61,
          78.99,
          79.36,
          79.3,
          78.04,
          78.62,
          78.08,
          77.82,
          77.55,
          78.52,
          78.99,
          78.88,
          78.93,
          79.02,
          79.08,
          78.97,
          78.6,
          78.6,
          78.11,
          78.06,
          78.3,
          78.32,
          78.79,
          78.74,
          78.68,
          79.03,
          79.66,
          80.11,
          77.07,
          77.74,
          76.6,
          76.65,
          74.5,
          73.11,
          74.17,
          75.43,
          76.68,
          78.42,
          78.45,
          76.35,
          76.14,
          76.47,
          76.45,
          77.76,
          78.35,
          79.37,
          79.51,
          80.4,
          80.04,
          81.11,
          81.27,
          81.24,
          77.34,
          76.8,
          75.62,
          75.02,
          76.6,
          77.06,
          76.21,
          76.04,
          75.7,
          74.08,
          73.61,
          74.49,
          72.37,
          71.98,
          73.2,
          71.87,
          71.16,
          72.27,
          73.88,
          73.62,
          72.62,
          72.68,
          72.02,
          69.95,
          69.4,
          70.54,
          69.73,
          68.78,
          68.31,
          66.97,
          66.56,
          67.51,
          66.99,
          66.97,
          67.11,
          64.42,
          62.68,
          70.56,
          68.98,
          62.85,
          62.14,
          62.03,
          64.69,
          67.32,
          68.73,
          73.22,
          79.65,
          77.88,
          77.71,
          79.54,
          79.69,
          80.43,
          78.66,
          78.35,
          77.16,
          76.61,
          76.23,
          75,
          75.24,
          74.91,
          75.82,
          75.89,
          76.9,
          77.33,
          77.27,
          79.75,
          81.92,
          80.23,
          81.07,
          80.78,
          80.79,
          80.97,
          80.75,
          81.27,
          82.36,
          82.99,
          83.42,
          85.7,
          89.86,
          91.1,
          93.62,
          99.83,
          99.78,
          89.72,
          85.07,
          84.59,
          82.97,
          83.06,
          83.22,
          86.83,
          84.23,
          84.21,
          84.32,
          85.28,
          85.18,
          85.94,
          86.03,
          87.61,
          86.24,
          85.64,
          83.82,
          85.12,
          86.01,
          87.28,
          87.6,
          86.65,
          85.15,
          86.99,
          86.31,
          86.24,
          86.33,
          86.44,
          86.87,
          87.8,
          87.63,
          87.8,
          88.39,
          89.28,
          89.35,
          90.18,
          90.6,
          91.67,
          91.42,
          92.34,
          94.6,
          97.78,
          98.64,
          102.52,
          103.87,
          105.29,
          101.8,
          102.11,
          102.31,
          102.28,
          101.7,
          101.33,
          101.14,
          100.83,
          101.1,
          101.39,
          101.36,
          101.26,
          101.46,
          101.88,
          102.49,
          103.96,
          102.98,
          103,
          103.22,
          103.38,
          103.71,
          103.91,
          103.14,
          103.25,
          103.69,
          103.25,
          103.23,
          102.36,
          101.62,
          100.85,
          100.36,
          101.48,
          101.05,
          100.41,
          100.65,
          100.96,
          101.85,
          102.54,
          101.85,
          100.89,
          100.09,
          100.75,
          101.38,
          101.36,
          102.3,
          104.21,
          103.55,
          103.89,
          103.21,
          102.81,
          101.34,
          100.59,
          100.98,
          104.69,
          107.29,
          106.94,
          106.52,
          107.71,
          108.21,
          108.5,
          108.82,
          110.05,
          109.17,
          110.14,
          109.8,
          109.51,
          107.84,
          107.59,
          107.85,
          108.61,
          109.87,
          110.49,
          111.21,
          112.49,
          113.14,
          113.57,
          113.84,
          114.95,
          115.77,
          116.74,
          117.83,
          118.8,
          120.01,
          120.73,
          121.33,
          122.45,
          123.37,
          124.4,
          126.85,
          132.33,
          135.91,
          138.49,
          140.52,
          142.36,
          145.41,
          148.1,
          150.56,
          153.15,
          156.46,
          160.75,
          143.59,
          131.8,
          133.28,
          130.23,
          129.53,
          129.92,
          129.17,
          129.2,
          129.2,
          129.68,
          129.29,
          129.23,
          129.23,
          129.32,
          129.34,
          129.24,
          129.23
         ]
        }
       ],
       "layout": {
        "height": 500,
        "template": {
         "data": {
          "bar": [
           {
            "error_x": {
             "color": "#2a3f5f"
            },
            "error_y": {
             "color": "#2a3f5f"
            },
            "marker": {
             "line": {
              "color": "#E5ECF6",
              "width": 0.5
             },
             "pattern": {
              "fillmode": "overlay",
              "size": 10,
              "solidity": 0.2
             }
            },
            "type": "bar"
           }
          ],
          "barpolar": [
           {
            "marker": {
             "line": {
              "color": "#E5ECF6",
              "width": 0.5
             },
             "pattern": {
              "fillmode": "overlay",
              "size": 10,
              "solidity": 0.2
             }
            },
            "type": "barpolar"
           }
          ],
          "carpet": [
           {
            "aaxis": {
             "endlinecolor": "#2a3f5f",
             "gridcolor": "white",
             "linecolor": "white",
             "minorgridcolor": "white",
             "startlinecolor": "#2a3f5f"
            },
            "baxis": {
             "endlinecolor": "#2a3f5f",
             "gridcolor": "white",
             "linecolor": "white",
             "minorgridcolor": "white",
             "startlinecolor": "#2a3f5f"
            },
            "type": "carpet"
           }
          ],
          "choropleth": [
           {
            "colorbar": {
             "outlinewidth": 0,
             "ticks": ""
            },
            "type": "choropleth"
           }
          ],
          "contour": [
           {
            "colorbar": {
             "outlinewidth": 0,
             "ticks": ""
            },
            "colorscale": [
             [
              0,
              "#0d0887"
             ],
             [
              0.1111111111111111,
              "#46039f"
             ],
             [
              0.2222222222222222,
              "#7201a8"
             ],
             [
              0.3333333333333333,
              "#9c179e"
             ],
             [
              0.4444444444444444,
              "#bd3786"
             ],
             [
              0.5555555555555556,
              "#d8576b"
             ],
             [
              0.6666666666666666,
              "#ed7953"
             ],
             [
              0.7777777777777778,
              "#fb9f3a"
             ],
             [
              0.8888888888888888,
              "#fdca26"
             ],
             [
              1,
              "#f0f921"
             ]
            ],
            "type": "contour"
           }
          ],
          "contourcarpet": [
           {
            "colorbar": {
             "outlinewidth": 0,
             "ticks": ""
            },
            "type": "contourcarpet"
           }
          ],
          "heatmap": [
           {
            "colorbar": {
             "outlinewidth": 0,
             "ticks": ""
            },
            "colorscale": [
             [
              0,
              "#0d0887"
             ],
             [
              0.1111111111111111,
              "#46039f"
             ],
             [
              0.2222222222222222,
              "#7201a8"
             ],
             [
              0.3333333333333333,
              "#9c179e"
             ],
             [
              0.4444444444444444,
              "#bd3786"
             ],
             [
              0.5555555555555556,
              "#d8576b"
             ],
             [
              0.6666666666666666,
              "#ed7953"
             ],
             [
              0.7777777777777778,
              "#fb9f3a"
             ],
             [
              0.8888888888888888,
              "#fdca26"
             ],
             [
              1,
              "#f0f921"
             ]
            ],
            "type": "heatmap"
           }
          ],
          "heatmapgl": [
           {
            "colorbar": {
             "outlinewidth": 0,
             "ticks": ""
            },
            "colorscale": [
             [
              0,
              "#0d0887"
             ],
             [
              0.1111111111111111,
              "#46039f"
             ],
             [
              0.2222222222222222,
              "#7201a8"
             ],
             [
              0.3333333333333333,
              "#9c179e"
             ],
             [
              0.4444444444444444,
              "#bd3786"
             ],
             [
              0.5555555555555556,
              "#d8576b"
             ],
             [
              0.6666666666666666,
              "#ed7953"
             ],
             [
              0.7777777777777778,
              "#fb9f3a"
             ],
             [
              0.8888888888888888,
              "#fdca26"
             ],
             [
              1,
              "#f0f921"
             ]
            ],
            "type": "heatmapgl"
           }
          ],
          "histogram": [
           {
            "marker": {
             "pattern": {
              "fillmode": "overlay",
              "size": 10,
              "solidity": 0.2
             }
            },
            "type": "histogram"
           }
          ],
          "histogram2d": [
           {
            "colorbar": {
             "outlinewidth": 0,
             "ticks": ""
            },
            "colorscale": [
             [
              0,
              "#0d0887"
             ],
             [
              0.1111111111111111,
              "#46039f"
             ],
             [
              0.2222222222222222,
              "#7201a8"
             ],
             [
              0.3333333333333333,
              "#9c179e"
             ],
             [
              0.4444444444444444,
              "#bd3786"
             ],
             [
              0.5555555555555556,
              "#d8576b"
             ],
             [
              0.6666666666666666,
              "#ed7953"
             ],
             [
              0.7777777777777778,
              "#fb9f3a"
             ],
             [
              0.8888888888888888,
              "#fdca26"
             ],
             [
              1,
              "#f0f921"
             ]
            ],
            "type": "histogram2d"
           }
          ],
          "histogram2dcontour": [
           {
            "colorbar": {
             "outlinewidth": 0,
             "ticks": ""
            },
            "colorscale": [
             [
              0,
              "#0d0887"
             ],
             [
              0.1111111111111111,
              "#46039f"
             ],
             [
              0.2222222222222222,
              "#7201a8"
             ],
             [
              0.3333333333333333,
              "#9c179e"
             ],
             [
              0.4444444444444444,
              "#bd3786"
             ],
             [
              0.5555555555555556,
              "#d8576b"
             ],
             [
              0.6666666666666666,
              "#ed7953"
             ],
             [
              0.7777777777777778,
              "#fb9f3a"
             ],
             [
              0.8888888888888888,
              "#fdca26"
             ],
             [
              1,
              "#f0f921"
             ]
            ],
            "type": "histogram2dcontour"
           }
          ],
          "mesh3d": [
           {
            "colorbar": {
             "outlinewidth": 0,
             "ticks": ""
            },
            "type": "mesh3d"
           }
          ],
          "parcoords": [
           {
            "line": {
             "colorbar": {
              "outlinewidth": 0,
              "ticks": ""
             }
            },
            "type": "parcoords"
           }
          ],
          "pie": [
           {
            "automargin": true,
            "type": "pie"
           }
          ],
          "scatter": [
           {
            "fillpattern": {
             "fillmode": "overlay",
             "size": 10,
             "solidity": 0.2
            },
            "type": "scatter"
           }
          ],
          "scatter3d": [
           {
            "line": {
             "colorbar": {
              "outlinewidth": 0,
              "ticks": ""
             }
            },
            "marker": {
             "colorbar": {
              "outlinewidth": 0,
              "ticks": ""
             }
            },
            "type": "scatter3d"
           }
          ],
          "scattercarpet": [
           {
            "marker": {
             "colorbar": {
              "outlinewidth": 0,
              "ticks": ""
             }
            },
            "type": "scattercarpet"
           }
          ],
          "scattergeo": [
           {
            "marker": {
             "colorbar": {
              "outlinewidth": 0,
              "ticks": ""
             }
            },
            "type": "scattergeo"
           }
          ],
          "scattergl": [
           {
            "marker": {
             "colorbar": {
              "outlinewidth": 0,
              "ticks": ""
             }
            },
            "type": "scattergl"
           }
          ],
          "scattermapbox": [
           {
            "marker": {
             "colorbar": {
              "outlinewidth": 0,
              "ticks": ""
             }
            },
            "type": "scattermapbox"
           }
          ],
          "scatterpolar": [
           {
            "marker": {
             "colorbar": {
              "outlinewidth": 0,
              "ticks": ""
             }
            },
            "type": "scatterpolar"
           }
          ],
          "scatterpolargl": [
           {
            "marker": {
             "colorbar": {
              "outlinewidth": 0,
              "ticks": ""
             }
            },
            "type": "scatterpolargl"
           }
          ],
          "scatterternary": [
           {
            "marker": {
             "colorbar": {
              "outlinewidth": 0,
              "ticks": ""
             }
            },
            "type": "scatterternary"
           }
          ],
          "surface": [
           {
            "colorbar": {
             "outlinewidth": 0,
             "ticks": ""
            },
            "colorscale": [
             [
              0,
              "#0d0887"
             ],
             [
              0.1111111111111111,
              "#46039f"
             ],
             [
              0.2222222222222222,
              "#7201a8"
             ],
             [
              0.3333333333333333,
              "#9c179e"
             ],
             [
              0.4444444444444444,
              "#bd3786"
             ],
             [
              0.5555555555555556,
              "#d8576b"
             ],
             [
              0.6666666666666666,
              "#ed7953"
             ],
             [
              0.7777777777777778,
              "#fb9f3a"
             ],
             [
              0.8888888888888888,
              "#fdca26"
             ],
             [
              1,
              "#f0f921"
             ]
            ],
            "type": "surface"
           }
          ],
          "table": [
           {
            "cells": {
             "fill": {
              "color": "#EBF0F8"
             },
             "line": {
              "color": "white"
             }
            },
            "header": {
             "fill": {
              "color": "#C8D4E3"
             },
             "line": {
              "color": "white"
             }
            },
            "type": "table"
           }
          ]
         },
         "layout": {
          "annotationdefaults": {
           "arrowcolor": "#2a3f5f",
           "arrowhead": 0,
           "arrowwidth": 1
          },
          "autotypenumbers": "strict",
          "coloraxis": {
           "colorbar": {
            "outlinewidth": 0,
            "ticks": ""
           }
          },
          "colorscale": {
           "diverging": [
            [
             0,
             "#8e0152"
            ],
            [
             0.1,
             "#c51b7d"
            ],
            [
             0.2,
             "#de77ae"
            ],
            [
             0.3,
             "#f1b6da"
            ],
            [
             0.4,
             "#fde0ef"
            ],
            [
             0.5,
             "#f7f7f7"
            ],
            [
             0.6,
             "#e6f5d0"
            ],
            [
             0.7,
             "#b8e186"
            ],
            [
             0.8,
             "#7fbc41"
            ],
            [
             0.9,
             "#4d9221"
            ],
            [
             1,
             "#276419"
            ]
           ],
           "sequential": [
            [
             0,
             "#0d0887"
            ],
            [
             0.1111111111111111,
             "#46039f"
            ],
            [
             0.2222222222222222,
             "#7201a8"
            ],
            [
             0.3333333333333333,
             "#9c179e"
            ],
            [
             0.4444444444444444,
             "#bd3786"
            ],
            [
             0.5555555555555556,
             "#d8576b"
            ],
            [
             0.6666666666666666,
             "#ed7953"
            ],
            [
             0.7777777777777778,
             "#fb9f3a"
            ],
            [
             0.8888888888888888,
             "#fdca26"
            ],
            [
             1,
             "#f0f921"
            ]
           ],
           "sequentialminus": [
            [
             0,
             "#0d0887"
            ],
            [
             0.1111111111111111,
             "#46039f"
            ],
            [
             0.2222222222222222,
             "#7201a8"
            ],
            [
             0.3333333333333333,
             "#9c179e"
            ],
            [
             0.4444444444444444,
             "#bd3786"
            ],
            [
             0.5555555555555556,
             "#d8576b"
            ],
            [
             0.6666666666666666,
             "#ed7953"
            ],
            [
             0.7777777777777778,
             "#fb9f3a"
            ],
            [
             0.8888888888888888,
             "#fdca26"
            ],
            [
             1,
             "#f0f921"
            ]
           ]
          },
          "colorway": [
           "#636efa",
           "#EF553B",
           "#00cc96",
           "#ab63fa",
           "#FFA15A",
           "#19d3f3",
           "#FF6692",
           "#B6E880",
           "#FF97FF",
           "#FECB52"
          ],
          "font": {
           "color": "#2a3f5f"
          },
          "geo": {
           "bgcolor": "white",
           "lakecolor": "white",
           "landcolor": "#E5ECF6",
           "showlakes": true,
           "showland": true,
           "subunitcolor": "white"
          },
          "hoverlabel": {
           "align": "left"
          },
          "hovermode": "closest",
          "mapbox": {
           "style": "light"
          },
          "paper_bgcolor": "white",
          "plot_bgcolor": "#E5ECF6",
          "polar": {
           "angularaxis": {
            "gridcolor": "white",
            "linecolor": "white",
            "ticks": ""
           },
           "bgcolor": "#E5ECF6",
           "radialaxis": {
            "gridcolor": "white",
            "linecolor": "white",
            "ticks": ""
           }
          },
          "scene": {
           "xaxis": {
            "backgroundcolor": "#E5ECF6",
            "gridcolor": "white",
            "gridwidth": 2,
            "linecolor": "white",
            "showbackground": true,
            "ticks": "",
            "zerolinecolor": "white"
           },
           "yaxis": {
            "backgroundcolor": "#E5ECF6",
            "gridcolor": "white",
            "gridwidth": 2,
            "linecolor": "white",
            "showbackground": true,
            "ticks": "",
            "zerolinecolor": "white"
           },
           "zaxis": {
            "backgroundcolor": "#E5ECF6",
            "gridcolor": "white",
            "gridwidth": 2,
            "linecolor": "white",
            "showbackground": true,
            "ticks": "",
            "zerolinecolor": "white"
           }
          },
          "shapedefaults": {
           "line": {
            "color": "#2a3f5f"
           }
          },
          "ternary": {
           "aaxis": {
            "gridcolor": "white",
            "linecolor": "white",
            "ticks": ""
           },
           "baxis": {
            "gridcolor": "white",
            "linecolor": "white",
            "ticks": ""
           },
           "bgcolor": "#E5ECF6",
           "caxis": {
            "gridcolor": "white",
            "linecolor": "white",
            "ticks": ""
           }
          },
          "title": {
           "x": 0.05
          },
          "xaxis": {
           "automargin": true,
           "gridcolor": "white",
           "linecolor": "white",
           "ticks": "",
           "title": {
            "standoff": 15
           },
           "zerolinecolor": "white",
           "zerolinewidth": 2
          },
          "yaxis": {
           "automargin": true,
           "gridcolor": "white",
           "linecolor": "white",
           "ticks": "",
           "title": {
            "standoff": 15
           },
           "zerolinecolor": "white",
           "zerolinewidth": 2
          }
         }
        },
        "title": {
         "text": "Real CBK USD/KES Exchange Rate (1993-2023)"
        },
        "xaxis": {
         "title": {
          "text": "Date"
         }
        },
        "yaxis": {
         "title": {
          "text": "USD/KES Rate"
         }
        }
       }
      }
     },
     "metadata": {},
     "output_type": "display_data"
    },
    {
     "name": "stdout",
     "output_type": "stream",
     "text": [
      "\\nKEY FX INSIGHTS:\n",
      "   Current USD/KES Rate: 129.23\n",
      "   Historical Average: 85.31\n",
      "   Annual Change: -0.53%\n",
      "   Data Points: 390 monthly observations\n",
      "   Volatility: 3.36%\n"
     ]
    }
   ],
   "source": [
    "# Load and Process Real FX Data - Clean Version\n",
    "print(\"LOADING REAL CBK EXCHANGE RATE DATA\")\n",
    "print(\"=\"*50)\n",
    "\n",
    "# Direct approach to load USD/KES exchange rate data\n",
    "try:\n",
    "    # Load the monthly exchange rate data\n",
    "    fx_raw = pd.read_csv(\"../data/raw/Monthly exchange rate (end period).csv\")\n",
    "    print(f\"Raw FX data loaded: {len(fx_raw)} rows\")\n",
    "    \n",
    "    # The data structure: Row 0 has headers, data starts from row 1\n",
    "    # Columns: Year, Month, USD Rate, Sterling, Euro, etc.\n",
    "    fx_data = fx_raw.iloc[1:].copy()  # Skip header row\n",
    "    \n",
    "    # Rename columns for easier access\n",
    "    fx_data.columns = ['Year', 'Month', 'USD_KES', 'Sterling', 'Euro'] + list(fx_data.columns[5:])\n",
    "    \n",
    "    # Convert to proper types\n",
    "    fx_data['Year'] = pd.to_numeric(fx_data['Year'], errors='coerce')\n",
    "    fx_data['Month'] = pd.to_numeric(fx_data['Month'], errors='coerce')\n",
    "    fx_data['USD_KES'] = pd.to_numeric(fx_data['USD_KES'], errors='coerce')\n",
    "    \n",
    "    # Create date column\n",
    "    fx_data['Date'] = pd.to_datetime(fx_data[['Year', 'Month']].assign(day=1), errors='coerce')\n",
    "    \n",
    "    # Clean data - remove rows with missing values\n",
    "    fx_clean = fx_data.dropna(subset=['Date', 'USD_KES']).copy()\n",
    "    fx_clean = fx_clean.sort_values('Date').reset_index(drop=True)\n",
    "    \n",
    "    print(f\"Processed FX data: {len(fx_clean)} valid records\")\n",
    "    print(f\"Date range: {fx_clean['Date'].min()} to {fx_clean['Date'].max()}\")\n",
    "    print(f\"USD/KES range: {fx_clean['USD_KES'].min():.2f} - {fx_clean['USD_KES'].max():.2f}\")\n",
    "    \n",
    "    # Add analysis columns\n",
    "    fx_clean['Rate_Change'] = fx_clean['USD_KES'].diff()\n",
    "    fx_clean['Rate_PCT_Change'] = fx_clean['USD_KES'].pct_change()\n",
    "    fx_clean['Volatility_6M'] = fx_clean['Rate_PCT_Change'].rolling(window=6).std()\n",
    "    \n",
    "    # Create simple visualization\n",
    "    import plotly.graph_objects as go\n",
    "    \n",
    "    fig = go.Figure()\n",
    "    fig.add_trace(go.Scatter(\n",
    "        x=fx_clean['Date'],\n",
    "        y=fx_clean['USD_KES'],\n",
    "        mode='lines+markers',\n",
    "        name='USD/KES Exchange Rate',\n",
    "        line=dict(color='blue', width=2),\n",
    "        marker=dict(size=3)\n",
    "    ))\n",
    "    \n",
    "    fig.update_layout(\n",
    "        title=\"Real CBK USD/KES Exchange Rate (1993-2023)\",\n",
    "        xaxis_title=\"Date\",\n",
    "        yaxis_title=\"USD/KES Rate\",\n",
    "        height=500\n",
    "    )\n",
    "    \n",
    "    fig.show()\n",
    "    \n",
    "    # Display key insights\n",
    "    current_rate = fx_clean['USD_KES'].iloc[-1]\n",
    "    avg_rate = fx_clean['USD_KES'].mean()\n",
    "    rate_change_1y = fx_clean['USD_KES'].iloc[-1] / fx_clean['USD_KES'].iloc[-12] - 1 if len(fx_clean) >= 12 else 0\n",
    "    \n",
    "    print(f\"\\\\nKEY FX INSIGHTS:\")\n",
    "    print(f\"   Current USD/KES Rate: {current_rate:.2f}\")\n",
    "    print(f\"   Historical Average: {avg_rate:.2f}\")\n",
    "    print(f\"   Annual Change: {rate_change_1y*100:.2f}%\")\n",
    "    print(f\"   Data Points: {len(fx_clean)} monthly observations\")\n",
    "    print(f\"   Volatility: {fx_clean['Rate_PCT_Change'].std()*100:.2f}%\")\n",
    "    \n",
    "    # Store for further analysis\n",
    "    processed_fx = fx_clean.copy()\n",
    "    \n",
    "except Exception as e:\n",
    "    print(f\"Error loading FX data: {str(e)}\")\n",
    "    processed_fx = None"
   ]
  },
  {
   "cell_type": "code",
   "execution_count": null,
   "id": "8e75c413",
   "metadata": {},
   "outputs": [],
   "source": [
    "# Advanced FX Modeling & Prediction\n",
    "print(\"\\\\n🧠 ADVANCED FX MODELING & PREDICTION\")\n",
    "print(\"=\"*50)\n",
    "\n",
    "from sklearn.ensemble import RandomForestRegressor, GradientBoostingRegressor\n",
    "from sklearn.linear_model import LinearRegression\n",
    "from sklearn.preprocessing import MinMaxScaler\n",
    "from sklearn.metrics import mean_absolute_error, mean_squared_error, r2_score\n",
    "import numpy as np\n",
    "\n",
    "class AdvancedFXPredictor:\n",
    "    def __init__(self):\n",
    "        self.models = {\n",
    "            'Random Forest': RandomForestRegressor(n_estimators=100, random_state=42),\n",
    "            'Gradient Boosting': GradientBoostingRegressor(n_estimators=100, random_state=42),\n",
    "            'Linear Regression': LinearRegression()\n",
    "        }\n",
    "        self.scaler = MinMaxScaler()\n",
    "        self.best_model = None\n",
    "        self.model_performance = {}\n",
    "    \n",
    "    def create_features(self, df):\n",
    "        \"\"\"Create advanced features for FX prediction\"\"\"\n",
    "        features_df = df.copy()\n",
    "        \n",
    "        # Technical indicators\n",
    "        features_df['ma_7'] = features_df['usd_kes_rate'].rolling(window=7).mean()\n",
    "        features_df['ma_30'] = features_df['usd_kes_rate'].rolling(window=30).mean()\n",
    "        features_df['ma_ratio'] = features_df['ma_7'] / features_df['ma_30']\n",
    "        \n",
    "        # Volatility features\n",
    "        features_df['volatility_7'] = features_df['usd_kes_rate'].rolling(window=7).std()\n",
    "        features_df['volatility_30'] = features_df['usd_kes_rate'].rolling(window=30).std()\n",
    "        \n",
    "        # Rate of change features\n",
    "        features_df['roc_1'] = features_df['usd_kes_rate'].pct_change(1)\n",
    "        features_df['roc_7'] = features_df['usd_kes_rate'].pct_change(7)\n",
    "        features_df['roc_30'] = features_df['usd_kes_rate'].pct_change(30)\n",
    "        \n",
    "        # Lagged features\n",
    "        for lag in [1, 2, 3, 7, 14]:\n",
    "            features_df[f'lag_{lag}'] = features_df['usd_kes_rate'].shift(lag)\n",
    "        \n",
    "        # Time-based features\n",
    "        features_df['month'] = features_df.index.month\n",
    "        features_df['quarter'] = features_df.index.quarter\n",
    "        features_df['year'] = features_df.index.year\n",
    "        \n",
    "        return features_df.dropna()\n",
    "    \n",
    "    def prepare_training_data(self, df, target_col='usd_kes_rate', test_size=0.2):\n",
    "        \"\"\"Prepare data for training\"\"\"\n",
    "        feature_cols = [col for col in df.columns if col != target_col]\n",
    "        \n",
    "        # Split data\n",
    "        split_idx = int(len(df) * (1 - test_size))\n",
    "        train_df = df.iloc[:split_idx]\n",
    "        test_df = df.iloc[split_idx:]\n",
    "        \n",
    "        X_train = train_df[feature_cols]\n",
    "        y_train = train_df[target_col]\n",
    "        X_test = test_df[feature_cols]\n",
    "        y_test = test_df[target_col]\n",
    "        \n",
    "        # Scale features\n",
    "        X_train_scaled = self.scaler.fit_transform(X_train)\n",
    "        X_test_scaled = self.scaler.transform(X_test)\n",
    "        \n",
    "        return X_train_scaled, X_test_scaled, y_train, y_test, feature_cols\n",
    "    \n",
    "    def train_models(self, X_train, X_test, y_train, y_test):\n",
    "        \"\"\"Train multiple models and evaluate performance\"\"\"\n",
    "        results = {}\n",
    "        \n",
    "        for name, model in self.models.items():\n",
    "            print(f\"\\\\n🤖 Training {name}...\")\n",
    "            \n",
    "            # Train model\n",
    "            model.fit(X_train, y_train)\n",
    "            \n",
    "            # Make predictions\n",
    "            y_pred = model.predict(X_test)\n",
    "            \n",
    "            # Calculate metrics\n",
    "            mae = mean_absolute_error(y_test, y_pred)\n",
    "            mse = mean_squared_error(y_test, y_pred)\n",
    "            rmse = np.sqrt(mse)\n",
    "            r2 = r2_score(y_test, y_pred)\n",
    "            \n",
    "            results[name] = {\n",
    "                'model': model,\n",
    "                'mae': mae,\n",
    "                'mse': mse,\n",
    "                'rmse': rmse,\n",
    "                'r2': r2,\n",
    "                'predictions': y_pred\n",
    "            }\n",
    "            \n",
    "            print(f\"   📊 MAE: {mae:.4f}\")\n",
    "            print(f\"   📊 RMSE: {rmse:.4f}\")\n",
    "            print(f\"   📊 R²: {r2:.4f}\")\n",
    "        \n",
    "        # Find best model\n",
    "        best_model_name = min(results.keys(), key=lambda x: results[x]['rmse'])\n",
    "        self.best_model = results[best_model_name]['model']\n",
    "        self.model_performance = results\n",
    "        \n",
    "        print(f\"\\\\n🏆 Best Model: {best_model_name} (RMSE: {results[best_model_name]['rmse']:.4f})\")\n",
    "        \n",
    "        return results\n",
    "    \n",
    "    def predict_future(self, last_features, periods=30):\n",
    "        \"\"\"Generate future predictions\"\"\"\n",
    "        if self.best_model is None:\n",
    "            raise ValueError(\"No trained model available\")\n",
    "        \n",
    "        predictions = []\n",
    "        current_features = last_features.copy()\n",
    "        \n",
    "        for _ in range(periods):\n",
    "            # Scale features\n",
    "            scaled_features = self.scaler.transform([current_features])\n",
    "            \n",
    "            # Make prediction\n",
    "            pred = self.best_model.predict(scaled_features)[0]\n",
    "            predictions.append(pred)\n",
    "            \n",
    "            # Update features for next prediction (simplified approach)\n",
    "            current_features = np.roll(current_features, -1)\n",
    "            current_features[-1] = pred\n",
    "        \n",
    "        return predictions\n",
    "\n",
    "# Initialize predictor\n",
    "predictor = AdvancedFXPredictor()\n",
    "\n",
    "if 'processed_fx' in locals() and processed_fx is not None:\n",
    "    print(\"\\\\n🔧 Creating advanced features...\")\n",
    "    features_df = predictor.create_features(processed_fx)\n",
    "    \n",
    "    print(f\"   📊 Features created: {len(features_df.columns) - 1}\")\n",
    "    print(f\"   📊 Training samples: {len(features_df)}\")\n",
    "    \n",
    "    # Prepare training data\n",
    "    print(\"\\\\n🎯 Preparing training data...\")\n",
    "    X_train, X_test, y_train, y_test, feature_cols = predictor.prepare_training_data(features_df)\n",
    "    \n",
    "    print(f\"   📊 Training size: {len(X_train)}\")\n",
    "    print(f\"   📊 Testing size: {len(X_test)}\")\n",
    "    \n",
    "    # Train models\n",
    "    print(\"\\\\n🚀 Training prediction models...\")\n",
    "    model_results = predictor.train_models(X_train, X_test, y_train, y_test)\n",
    "    \n",
    "else:\n",
    "    print(\"❌ No processed FX data available for modeling\")"
   ]
  },
  {
   "cell_type": "code",
   "execution_count": null,
   "id": "b18d09df",
   "metadata": {},
   "outputs": [],
   "source": [
    "# Model Performance Visualization & Future Predictions\n",
    "print(\"\\\\n📊 MODEL PERFORMANCE & FUTURE PREDICTIONS\")\n",
    "print(\"=\"*50)\n",
    "\n",
    "import plotly.graph_objects as go\n",
    "from plotly.subplots import make_subplots\n",
    "import pandas as pd\n",
    "from datetime import datetime, timedelta\n",
    "\n",
    "def create_model_comparison_chart(model_results, y_test):\n",
    "    \"\"\"Create comprehensive model comparison visualization\"\"\"\n",
    "    fig = make_subplots(\n",
    "        rows=2, cols=2,\n",
    "        subplot_titles=('Model Performance Comparison', 'Prediction vs Actual', \n",
    "                       'Residuals Analysis', 'Feature Importance'),\n",
    "        specs=[[{\"secondary_y\": False}, {\"secondary_y\": False}],\n",
    "               [{\"secondary_y\": False}, {\"secondary_y\": False}]]\n",
    "    )\n",
    "    \n",
    "    # Model performance metrics\n",
    "    models = list(model_results.keys())\n",
    "    rmse_values = [model_results[model]['rmse'] for model in models]\n",
    "    r2_values = [model_results[model]['r2'] for model in models]\n",
    "    \n",
    "    fig.add_trace(\n",
    "        go.Bar(name='RMSE', x=models, y=rmse_values, marker_color='lightcoral'),\n",
    "        row=1, col=1\n",
    "    )\n",
    "    \n",
    "    # Best model predictions vs actual\n",
    "    best_model_name = min(models, key=lambda x: model_results[x]['rmse'])\n",
    "    best_predictions = model_results[best_model_name]['predictions']\n",
    "    \n",
    "    fig.add_trace(\n",
    "        go.Scatter(name='Actual', y=y_test.values, mode='lines', line=dict(color='blue')),\n",
    "        row=1, col=2\n",
    "    )\n",
    "    fig.add_trace(\n",
    "        go.Scatter(name='Predicted', y=best_predictions, mode='lines', line=dict(color='red')),\n",
    "        row=1, col=2\n",
    "    )\n",
    "    \n",
    "    # Residuals\n",
    "    residuals = y_test.values - best_predictions\n",
    "    fig.add_trace(\n",
    "        go.Scatter(x=best_predictions, y=residuals, mode='markers', \n",
    "                  name='Residuals', marker=dict(color='green')),\n",
    "        row=2, col=1\n",
    "    )\n",
    "    \n",
    "    # R² comparison\n",
    "    fig.add_trace(\n",
    "        go.Bar(name='R²', x=models, y=r2_values, marker_color='lightblue'),\n",
    "        row=2, col=2\n",
    "    )\n",
    "    \n",
    "    fig.update_layout(\n",
    "        title=\"🎯 FX Model Performance Analysis\",\n",
    "        height=800,\n",
    "        showlegend=True,\n",
    "        title_font=dict(size=16, color='darkblue')\n",
    "    )\n",
    "    \n",
    "    return fig\n",
    "\n",
    "def create_future_predictions_chart(historical_data, predictions, periods=30):\n",
    "    \"\"\"Create future predictions visualization\"\"\"\n",
    "    # Generate future dates\n",
    "    last_date = historical_data.index[-1]\n",
    "    future_dates = pd.date_range(start=last_date + timedelta(days=1), periods=periods, freq='D')\n",
    "    \n",
    "    fig = go.Figure()\n",
    "    \n",
    "    # Historical data\n",
    "    fig.add_trace(\n",
    "        go.Scatter(\n",
    "            x=historical_data.index[-100:],  # Last 100 points\n",
    "            y=historical_data['usd_kes_rate'].iloc[-100:],\n",
    "            mode='lines',\n",
    "            name='Historical USD/KES',\n",
    "            line=dict(color='blue', width=2)\n",
    "        )\n",
    "    )\n",
    "    \n",
    "    # Future predictions\n",
    "    fig.add_trace(\n",
    "        go.Scatter(\n",
    "            x=future_dates,\n",
    "            y=predictions,\n",
    "            mode='lines+markers',\n",
    "            name='Predicted USD/KES',\n",
    "            line=dict(color='red', width=2, dash='dash'),\n",
    "            marker=dict(size=6)\n",
    "        )\n",
    "    )\n",
    "    \n",
    "    # Add vertical line at prediction start\n",
    "    fig.add_vline(\n",
    "        x=last_date,\n",
    "        line_dash=\"dot\",\n",
    "        line_color=\"gray\",\n",
    "        annotation_text=\"Prediction Start\"\n",
    "    )\n",
    "    \n",
    "    fig.update_layout(\n",
    "        title=\"🔮 USD/KES Exchange Rate Forecast (Next 30 Days)\",\n",
    "        xaxis_title=\"Date\",\n",
    "        yaxis_title=\"USD/KES Rate\",\n",
    "        height=600,\n",
    "        showlegend=True,\n",
    "        title_font=dict(size=16, color='darkblue')\n",
    "    )\n",
    "    \n",
    "    return fig\n",
    "\n",
    "# Generate visualizations if models are trained\n",
    "if 'model_results' in locals() and model_results:\n",
    "    print(\"\\\\n📊 Creating model comparison chart...\")\n",
    "    comparison_chart = create_model_comparison_chart(model_results, y_test)\n",
    "    comparison_chart.show()\n",
    "    \n",
    "    # Generate future predictions\n",
    "    print(\"\\\\n🔮 Generating future predictions...\")\n",
    "    try:\n",
    "        # Get last features for prediction\n",
    "        last_features = X_test[-1]  # Use last test sample as starting point\n",
    "        future_predictions = predictor.predict_future(last_features, periods=30)\n",
    "        \n",
    "        # Create predictions chart\n",
    "        predictions_chart = create_future_predictions_chart(processed_fx, future_predictions)\n",
    "        predictions_chart.show()\n",
    "        \n",
    "        # Display prediction summary\n",
    "        print(f\"\\\\n🎯 FUTURE PREDICTIONS SUMMARY:\")\n",
    "        print(f\"   🔮 30-Day Forecast Range: {min(future_predictions):.2f} - {max(future_predictions):.2f}\")\n",
    "        print(f\"   📈 Predicted Direction: {'Depreciation' if future_predictions[-1] > future_predictions[0] else 'Appreciation'}\")\n",
    "        print(f\"   💱 Current Rate: {processed_fx['usd_kes_rate'].iloc[-1]:.2f}\")\n",
    "        print(f\"   🎯 30-Day Target: {future_predictions[-1]:.2f}\")\n",
    "        print(f\"   📊 Expected Change: {((future_predictions[-1] / processed_fx['usd_kes_rate'].iloc[-1]) - 1) * 100:.2f}%\")\n",
    "        \n",
    "        # Risk assessment\n",
    "        volatility = np.std(future_predictions)\n",
    "        print(f\"\\\\n⚠️ RISK ASSESSMENT:\")\n",
    "        print(f\"   📊 Prediction Volatility: {volatility:.4f}\")\n",
    "        print(f\"   🎯 Confidence Level: {'High' if volatility < 2.0 else 'Medium' if volatility < 5.0 else 'Low'}\")\n",
    "        \n",
    "    except Exception as e:\n",
    "        print(f\"❌ Error generating future predictions: {str(e)}\")\n",
    "        \n",
    "else:\n",
    "    print(\"❌ No trained models available for visualization\")"
   ]
  }
 ],
 "metadata": {
  "kernelspec": {
   "display_name": "base",
   "language": "python",
   "name": "python3"
  },
  "language_info": {
   "codemirror_mode": {
    "name": "ipython",
    "version": 3
   },
   "file_extension": ".py",
   "mimetype": "text/x-python",
   "name": "python",
   "nbconvert_exporter": "python",
   "pygments_lexer": "ipython3",
   "version": "3.13.5"
  }
 },
 "nbformat": 4,
 "nbformat_minor": 5
}
