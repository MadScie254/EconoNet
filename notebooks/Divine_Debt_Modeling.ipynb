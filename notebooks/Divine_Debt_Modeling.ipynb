{
 "cells": [
  {
   "cell_type": "markdown",
   "id": "a25deae5",
   "metadata": {},
   "source": [
    "# 🌟 Divine Debt Modeling Notebook\n",
    "This notebook demonstrates the `DivineSupremeDebtPredictor` pipeline: load data, prepare time series, engineer features, train models, train time-series models, generate predictions, and save artifacts."
   ]
  },
  {
   "cell_type": "code",
   "execution_count": null,
   "id": "47e842c0",
   "metadata": {},
   "outputs": [],
   "source": [
    "# Basic imports and setup\n",
    "import warnings\n",
    "warnings.filterwarnings('ignore')\n",
    "import pandas as pd\n",
    "from src.debt_model import DivineSupremeDebtPredictor\n",
    "from src import data_fetchers\n",
    "print('Environment ready')"
   ]
  },
  {
   "cell_type": "code",
   "execution_count": null,
   "id": "0576ffde",
   "metadata": {},
   "outputs": [],
   "source": [
    "# Instantiate predictor and load local debt data\n",
    "dp = DivineSupremeDebtPredictor()\n",
    "dp.load_debt_data('../data/raw/')\n",
    "dp.prepare_debt_time_series()\n",
    "print('Data prepared:', getattr(dp, 'ts_data', None) is not None)"
   ]
  },
  {
   "cell_type": "code",
   "execution_count": null,
   "id": "f72d3839",
   "metadata": {},
   "outputs": [],
   "source": [
    "# Create features and detect structural breaks\n",
    "dp.create_divine_debt_features()\n",
    "dp.detect_structural_breaks()\n",
    "print('Features created:', getattr(dp, 'feature_data', None) is not None)"
   ]
  },
  {
   "cell_type": "code",
   "execution_count": null,
   "id": "183e0037",
   "metadata": {},
   "outputs": [],
   "source": [
    "# Train machine learning models (quick run)\n",
    "dp.train_divine_models()\n",
    "print('Trained models:', list(dp.trained_models.keys())[:5])"
   ]
  },
  {
   "cell_type": "code",
   "execution_count": null,
   "id": "cf13a43e",
   "metadata": {},
   "outputs": [],
   "source": [
    "# Train time-series models (SARIMAX/Prophet/GARCH)\n",
    "dp.train_divine_time_series_models()\n",
    "print('Time series models:', list(dp.time_series_models.keys()))"
   ]
  },
  {
   "cell_type": "code",
   "execution_count": null,
   "id": "b90a3c0f",
   "metadata": {},
   "outputs": [],
   "source": [
    "# Generate predictions and save models\n",
    "preds = dp.generate_debt_predictions()\n",
    "print('Predictions:', preds)\n",
    "dp.save_debt_models('../models/debt/')\n",
    "print('Models saved to ../models/debt/')"
   ]
  },
  {
   "cell_type": "markdown",
   "id": "f8c5f4d3",
   "metadata": {},
   "source": [
    "## Notes\n",
    "- If optional packages like `prophet`, `pmdarima`, or `arch` are missing, those steps will be skipped with a warning.\n",
    "- For full reproducibility, install packages listed in `requirements.txt`."
   ]
  }
 ],
 "metadata": {
  "language_info": {
   "name": "python"
  }
 },
 "nbformat": 4,
 "nbformat_minor": 5
}
