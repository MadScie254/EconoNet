{
 "cells": [
  {
   "cell_type": "markdown",
   "id": "799e4b6e",
   "metadata": {},
   "source": [
    "# DIVINE Debt Dashboard Demo\n",
    "This notebook demonstrates loading the DIVINE debt predictor and visualizing the historical debt series and ensemble prediction."
   ]
  },
  {
   "cell_type": "code",
   "execution_count": null,
   "id": "22f0e0af",
   "metadata": {},
   "outputs": [],
   "source": [
    "import sys\n",
    "sys.path.insert(0, '..')\n",
    "from src.debt_model import DivineSupremeDebtPredictor\n",
    "import pandas as pd\n",
    "import plotly.graph_objs as go\n",
    "from sklearn.ensemble import RandomForestRegressor\n",
    "\n",
    "dp = DivineSupremeDebtPredictor()\n",
    "dp.load_debt_data('data/raw/')\n",
    "dp.prepare_debt_time_series()\n",
    "dp.create_divine_debt_features()\n",
    "dp.models = {'Smoke_RF': RandomForestRegressor(n_estimators=20, random_state=42)}\n",
    "dp.train_divine_models()\n",
    "preds = dp.generate_debt_predictions()\n",
    "print('Predictions:', preds)"
   ]
  },
  {
   "cell_type": "code",
   "execution_count": null,
   "id": "dae0444c",
   "metadata": {},
   "outputs": [],
   "source": [
    "ts = dp.debt_ts[[dp.target_col]].dropna()\n",
    "fig = go.Figure()\n",
    "fig.add_trace(go.Scatter(x=ts.index, y=ts[dp.target_col], mode='lines+markers', name='Total Debt'))\n",
    "if 'Divine_Ensemble' in preds:\n",
    "    next_date = pd.to_datetime(ts.index.max()) + pd.offsets.MonthBegin(1)\n",
    "    fig.add_trace(go.Scatter(x=[next_date], y=[preds['Divine_Ensemble']], mode='markers', marker={'size':12,'color':'red'}, name='Ensemble Prediction'))\n",
    "fig.show()"
   ]
  }
 ],
 "metadata": {
  "language_info": {
   "name": "python"
  }
 },
 "nbformat": 4,
 "nbformat_minor": 5
}
